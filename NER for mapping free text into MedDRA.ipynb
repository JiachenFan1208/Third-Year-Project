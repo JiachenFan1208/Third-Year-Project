{
 "cells": [
  {
   "cell_type": "code",
   "execution_count": 1,
   "metadata": {},
   "outputs": [],
   "source": [
    "import nltk\n",
    "from nltk import word_tokenize, sent_tokenize, pos_tag\n",
    "import pandas as pd\n",
    "import os\n",
    "import re\n",
    "from xml.dom import minidom\n",
    "from xml.etree import cElementTree as ET"
   ]
  },
  {
   "cell_type": "code",
   "execution_count": 2,
   "metadata": {},
   "outputs": [
    {
     "name": "stdout",
     "output_type": "stream",
     "text": [
      "[nltk_data] Downloading package punkt to\n",
      "[nltk_data]     C:\\Users\\24526\\AppData\\Roaming\\nltk_data...\n",
      "[nltk_data]   Package punkt is already up-to-date!\n",
      "[nltk_data] Downloading package averaged_perceptron_tagger to\n",
      "[nltk_data]     C:\\Users\\24526\\AppData\\Roaming\\nltk_data...\n",
      "[nltk_data]   Package averaged_perceptron_tagger is already up-to-\n",
      "[nltk_data]       date!\n"
     ]
    },
    {
     "data": {
      "text/plain": [
       "True"
      ]
     },
     "execution_count": 2,
     "metadata": {},
     "output_type": "execute_result"
    }
   ],
   "source": [
    "nltk.download('punkt')\n",
    "nltk.download('averaged_perceptron_tagger')"
   ]
  },
  {
   "cell_type": "markdown",
   "metadata": {},
   "source": [
    "Data Loading"
   ]
  },
  {
   "cell_type": "code",
   "execution_count": 9,
   "metadata": {},
   "outputs": [],
   "source": [
    "# Load data from local/url"
   ]
  },
  {
   "cell_type": "code",
   "execution_count": 10,
   "metadata": {},
   "outputs": [
    {
     "name": "stdout",
     "output_type": "stream",
     "text": [
      "Text\n",
      "Mentions\n",
      "Relations\n",
      "Reactions\n"
     ]
    }
   ],
   "source": [
    "path = r'D:\\桌面\\ADR_examples\\train_xml\\train_xml\\ADREVIEW.xml'\n",
    "\n",
    "text_content = ''\n",
    "\n",
    "tree = ET.parse(path)\n",
    "root = tree.getroot()\n",
    "\n",
    "for child in root:\n",
    "    print(child.tag)\n"
   ]
  },
  {
   "cell_type": "markdown",
   "metadata": {},
   "source": [
    "Data Preprocessing"
   ]
  },
  {
   "cell_type": "code",
   "execution_count": 11,
   "metadata": {},
   "outputs": [],
   "source": [
    "def spans(txt):\n",
    "    tokens=nltk.word_tokenize(txt)\n",
    "    offset = 0\n",
    "    for token in tokens:\n",
    "        offset = txt.find(token, offset)\n",
    "        yield token, offset, offset+len(token)\n",
    "        offset += len(token)"
   ]
  },
  {
   "cell_type": "code",
   "execution_count": 12,
   "metadata": {},
   "outputs": [],
   "source": [
    "def BIO_tagging(tags, text):\n",
    "    \"\"\"\n",
    "    This function tags the text with BIO tags\n",
    "    \n",
    "    Input: An element of a list of tags, extracted text content\n",
    "    Output: A set of tuples which consist of words and BIO tag\n",
    "    \"\"\"\n",
    "    \n",
    "    tagged_words = []\n",
    "    tagged_position = []\n",
    "    \n",
    "    tokens = spans(text)\n",
    "    \n",
    "    for token in tokens:\n",
    "\n",
    "        tagged = False\n",
    "    \n",
    "        for i in range(len(tags)):\n",
    "\n",
    "            pos = tags[i].attrib['start'].split(',')\n",
    "            length = tags[i].attrib['len'].split(',')\n",
    "\n",
    "            for m in range(len(pos)):\n",
    "\n",
    "                c_pos = int(pos[m])\n",
    "                c_length = int(length[m])\n",
    "\n",
    "                \n",
    "                if token[1] != c_pos and (c_pos >= token[1] or (c_pos+c_length) <= token[1]):\n",
    "                    continue            \n",
    "                else:\n",
    "                    \n",
    "                    if token[1] == c_pos :\n",
    "                        B_tag = (token[0],'B-'+ str(tags[i].attrib['type']))\n",
    "                        tagged_words.append(B_tag)\n",
    "                        tagged = True\n",
    "                        break\n",
    "                        \n",
    "                    elif c_pos < token[1] < c_pos+c_length:\n",
    "                        I_tag = (token[0],'I-'+ str(tags[i].attrib['type']))\n",
    "                        tagged_words.append(I_tag)\n",
    "                        tagged = True\n",
    "                        break\n",
    "                        \n",
    "            if tagged == True:\n",
    "                break\n",
    "    \n",
    "        if tagged == False:\n",
    "            O_tag = (token[0],'O')\n",
    "            tagged_words.append(O_tag)\n",
    "                 \n",
    "                      \n",
    "                      \n",
    "                      \n",
    "    return tagged_words\n",
    "        \n",
    "        "
   ]
  },
  {
   "cell_type": "code",
   "execution_count": 13,
   "metadata": {},
   "outputs": [],
   "source": [
    "def  preprocess(string):\n",
    "    \"\"\"\n",
    "    Preprocessing for all datasets\n",
    "    \n",
    "    Input: A sentence from original text\n",
    "    Output: Preprocessed sentence\n",
    "    \"\"\"\n",
    "    \n",
    "    string = re.sub(r\"[^\\w(),|!?\\'\\`\\:\\-\\.;\\$%#]\", \" \", string)\n",
    "    string = re.sub(r\"\\'s\", \" is\", string)\n",
    "    string = re.sub(r\"\\'ve\", \" have\", string)\n",
    "    string = re.sub(r\"n\\'t\", \" not\", string)\n",
    "    string = re.sub(r\"\\'re\", \" are\", string)\n",
    "    string = re.sub(r\"\\'d\", \" would\", string)\n",
    "    string = re.sub(r\"\\'ll\", \" will\", string)\n",
    "    string = re.sub(r\"(?<=\\w)\\.\\.\\.\", \" ... \", string)\n",
    "    string = re.sub(r\"(?<=\\w)\\.\", \" . \", string)\n",
    "    string = re.sub(r\"(?<=\\w),\", \" , \", string)\n",
    "    string = re.sub(r\"(?<=\\w);\", \" ; \", string)\n",
    "    string = re.sub(r\"(?<=\\w)!\", \" ! \", string)\n",
    "    string = re.sub(r\"\\((?=\\w)\", \" ( \", string)\n",
    "    string = re.sub(r\"(?<=\\w)\\)\", \" ) \", string)\n",
    "    string = re.sub(r\"(?<=\\w)\\?\", \" ? \", string)\n",
    "    string = re.sub(r\"\\s{2,}\", \" \", string)\n",
    "    \n",
    "    \n",
    "    #Tokenization\n",
    "    tokens = word_tokenize(string)\n",
    "\n",
    "    # Part-of-speech Tagging\n",
    "    pos_tagged = pos_tag(tokens)\n",
    "       \n",
    "    \n",
    "    return pos_tagged"
   ]
  },
  {
   "cell_type": "code",
   "execution_count": 14,
   "metadata": {},
   "outputs": [
    {
     "name": "stdout",
     "output_type": "stream",
     "text": [
      "[('6', 'O'), ('ADVERSE', 'O'), ('REACTIONS', 'O'), ('EXCERPT', 'O'), (':', 'O'), ('Serious', 'B-Severity'), ('hypersensitivity', 'B-AdverseReaction'), ('reactions', 'I-AdverseReaction'), ('have', 'O'), ('been', 'O'), ('reported', 'O'), ('following', 'O'), ('AdreView', 'O'), ('administration', 'O'), ('.', 'O'), ('The', 'O'), ('most', 'O'), ('common', 'O'), ('adverse', 'O'), ('reactions', 'O'), (',', 'O'), ('dizziness', 'B-AdverseReaction'), (',', 'O'), ('rash', 'B-AdverseReaction'), (',', 'O'), ('pruritis', 'B-AdverseReaction'), (',', 'O'), ('flushing', 'B-AdverseReaction'), (',', 'O'), ('headache', 'B-AdverseReaction'), (',', 'O'), ('and', 'O'), ('injection', 'B-AdverseReaction'), ('site', 'I-AdverseReaction'), ('hemorrhage', 'I-AdverseReaction'), ('occurred', 'O'), ('in', 'O'), ('<', 'O'), ('1.3', 'O'), ('%', 'O'), ('of', 'O'), ('patients', 'O'), ('.', 'O'), ('(', 'O'), ('6.1', 'O'), (',', 'O'), ('6.2', 'O'), (')', 'O'), ('To', 'O'), ('report', 'O'), ('SUSPECTED', 'O'), ('ADVERSE', 'O'), ('REACTIONS', 'O'), (',', 'O'), ('contact', 'O'), ('GE', 'O'), ('Healthcare', 'O'), ('at', 'O'), ('1-800-654-0118', 'O'), ('or', 'O'), ('FDA', 'O'), ('at', 'O'), ('1-800-FDA-1088', 'O'), ('or', 'O'), ('www.fda.gov/medwatch', 'O'), ('.', 'O'), ('6.1', 'O'), ('Clinical', 'O'), ('Study', 'O'), ('Experience', 'O'), ('Because', 'O'), ('clinical', 'O'), ('trials', 'O'), ('are', 'O'), ('conducted', 'O'), ('under', 'O'), ('widely', 'O'), ('varying', 'O'), ('conditions', 'O'), (',', 'O'), ('adverse', 'O'), ('reaction', 'O'), ('rates', 'O'), ('observed', 'O'), ('in', 'O'), ('the', 'O'), ('clinical', 'O'), ('trials', 'O'), ('of', 'O'), ('a', 'O'), ('drug', 'O'), ('can', 'O'), ('not', 'O'), ('be', 'O'), ('directly', 'O'), ('compared', 'O'), ('to', 'O'), ('rates', 'O'), ('in', 'O'), ('the', 'O'), ('clinical', 'O'), ('trials', 'O'), ('of', 'O'), ('another', 'O'), ('drug', 'O'), ('and', 'O'), ('may', 'O'), ('not', 'O'), ('reflect', 'O'), ('the', 'O'), ('rates', 'O'), ('observed', 'O'), ('in', 'O'), ('practice', 'O'), ('.', 'O'), ('During', 'O'), ('clinical', 'O'), ('development', 'O'), ('1346', 'O'), ('patients', 'O'), ('were', 'O'), ('exposed', 'O'), ('to', 'O'), ('AdreView', 'O'), (',', 'O'), ('251', 'O'), ('patients', 'O'), ('with', 'O'), ('known', 'O'), ('or', 'O'), ('suspected', 'O'), ('pheochromocytoma', 'O'), ('or', 'O'), ('neuroblastoma', 'O'), (',', 'O'), ('985', 'O'), ('patients', 'O'), ('with', 'O'), ('heart', 'O'), ('failure', 'O'), (',', 'O'), ('and', 'O'), ('110', 'O'), ('control', 'O'), ('patients', 'O'), ('.', 'O'), ('All', 'O'), ('patients', 'O'), ('were', 'O'), ('monitored', 'O'), ('for', 'O'), ('adverse', 'O'), ('reactions', 'O'), ('over', 'O'), ('a', 'O'), ('24', 'O'), ('hour', 'O'), ('period', 'O'), ('following', 'O'), ('AdreView', 'O'), ('administration', 'O'), ('.', 'O'), ('Pheochromocytoma', 'O'), ('and', 'O'), ('Neuroblastoma', 'O'), ('Serious', 'O'), ('adverse', 'O'), ('reactions', 'O'), ('were', 'O'), ('not', 'O'), ('observed', 'O'), ('in', 'O'), ('the', 'O'), ('AdreView', 'O'), ('clinical', 'O'), ('study', 'O'), ('.', 'O'), ('Adverse', 'O'), ('reactions', 'O'), ('were', 'O'), ('all', 'O'), ('mild', 'B-Severity'), ('to', 'O'), ('moderate', 'B-Severity'), ('in', 'O'), ('severity', 'O'), ('and', 'O'), ('were', 'O'), ('predominantly', 'O'), ('isolated', 'O'), ('occurrences', 'O'), ('(', 'O'), ('<', 'O'), ('=', 'O'), ('2', 'O'), ('patients', 'O'), (')', 'O'), ('of', 'O'), ('one', 'O'), ('of', 'O'), ('the', 'O'), ('following', 'O'), ('reactions', 'O'), (':', 'O'), ('dizziness', 'B-AdverseReaction'), (',', 'O'), ('rash', 'B-AdverseReaction'), (',', 'O'), ('pruritus', 'B-AdverseReaction'), (',', 'O'), ('flushing', 'B-AdverseReaction'), ('or', 'O'), ('injection', 'B-AdverseReaction'), ('site', 'I-AdverseReaction'), ('hemorrhage', 'I-AdverseReaction'), ('.', 'O'), ('Congestive', 'O'), ('Heart', 'O'), ('Failure', 'O'), ('No', 'O'), ('serious', 'O'), ('adverse', 'O'), ('reactions', 'O'), ('to', 'O'), ('AdreView', 'O'), ('were', 'O'), ('observed', 'O'), ('in', 'O'), ('clinical', 'O'), ('studies', 'O'), ('.', 'O'), ('Adverse', 'O'), ('reactions', 'O'), ('that', 'O'), ('occurred', 'O'), ('with', 'O'), ('a', 'O'), ('frequency', 'O'), ('>', 'O'), ('1', 'O'), ('%', 'O'), ('were', 'O'), ('associated', 'O'), ('with', 'O'), ('the', 'O'), ('injection', 'B-AdverseReaction'), ('site', 'I-AdverseReaction'), ('(', 'O'), ('1.3', 'O'), ('%', 'O'), (')', 'O'), (',', 'O'), ('problems', 'B-AdverseReaction'), ('such', 'O'), ('as', 'O'), ('hematoma', 'B-AdverseReaction'), ('and', 'O'), ('bruising', 'B-AdverseReaction'), ('.', 'O'), ('The', 'O'), ('other', 'O'), ('most', 'O'), ('common', 'O'), ('reactions', 'O'), ('were', 'O'), ('flushing', 'B-AdverseReaction'), ('(', 'O'), ('0.3', 'O'), ('%', 'O'), (')', 'O'), ('and', 'O'), ('headache', 'B-AdverseReaction'), ('(', 'O'), ('0.4', 'O'), ('%', 'O'), (')', 'O'), ('.', 'O'), ('The', 'O'), ('adverse', 'O'), ('reactions', 'O'), ('were', 'O'), ('predominantly', 'O'), ('of', 'O'), ('mild', 'O'), ('to', 'O'), ('moderate', 'O'), ('intensity', 'O'), ('.', 'O'), ('6.2', 'O'), ('Postmarketing', 'O'), ('Experience', 'O'), ('Because', 'O'), ('postmarketing', 'O'), ('reactions', 'O'), ('are', 'O'), ('reported', 'O'), ('voluntarily', 'O'), ('from', 'O'), ('a', 'O'), ('population', 'O'), ('of', 'O'), ('uncertain', 'O'), ('size', 'O'), (',', 'O'), ('it', 'O'), ('is', 'O'), ('not', 'O'), ('always', 'O'), ('possible', 'O'), ('to', 'O'), ('reliably', 'O'), ('estimate', 'O'), ('their', 'O'), ('frequency', 'O'), ('or', 'O'), ('establish', 'O'), ('a', 'O'), ('causal', 'O'), ('relationship', 'O'), ('to', 'O'), ('drug', 'O'), ('exposure', 'O'), ('.', 'O'), ('Hypersensitivity', 'B-AdverseReaction'), ('reactions', 'I-AdverseReaction'), ('have', 'O'), ('uncommonly', 'O'), ('been', 'O'), ('reported', 'O'), ('during', 'O'), ('the', 'O'), ('postmarketing', 'O'), ('use', 'O'), ('of', 'O'), ('AdreView', 'O'), ('[', 'O'), ('see', 'O'), ('Warnings', 'O'), ('and', 'O'), ('Precautions', 'O'), ('(', 'O'), ('5.1', 'O'), (')', 'O'), (']', 'O'), ('.', 'O')]\n",
      "[('5', 'O'), ('WARNINGS', 'O'), ('AND', 'O'), ('PRECAUTIONS', 'O'), ('EXCERPT', 'O'), (':', 'O'), ('*', 'O'), ('Hypersensitivity', 'B-AdverseReaction'), ('reactions', 'I-AdverseReaction'), ('have', 'O'), ('followed', 'O'), ('AdreView', 'O'), ('administration', 'O'), ('.', 'O'), ('Have', 'O'), ('anaphylactic', 'O'), ('and', 'O'), ('hypersensitivity', 'O'), ('treatment', 'O'), ('measures', 'O'), ('available', 'O'), ('prior', 'O'), ('to', 'O'), ('AdreView', 'O'), ('administration', 'O'), ('.', 'O'), ('(', 'O'), ('5.1', 'O'), (')', 'O'), ('*', 'O'), ('Drugs', 'O'), ('which', 'O'), ('block', 'O'), ('norepinephrine', 'O'), ('uptake', 'O'), ('or', 'O'), ('deplete', 'O'), ('norepinephrine', 'O'), ('stores', 'O'), ('may', 'O'), ('decrease', 'O'), ('AdreView', 'O'), ('uptake', 'O'), ('.', 'O'), ('When', 'O'), ('medically', 'O'), ('feasible', 'O'), (',', 'O'), ('stop', 'O'), ('these', 'O'), ('drugs', 'O'), ('before', 'O'), ('AdreView', 'O'), ('administration', 'O'), ('and', 'O'), ('monitor', 'O'), ('patients', 'O'), ('for', 'O'), ('withdrawal', 'O'), ('signs', 'O'), ('and', 'O'), ('symptoms', 'O'), ('.', 'O'), ('(', 'O'), ('5.2', 'O'), (')', 'O'), ('*', 'O'), ('AdreView', 'O'), ('contains', 'O'), ('benzyl', 'O'), ('alcohol', 'O'), ('(', 'O'), ('10.3', 'O'), ('mg/mL', 'O'), (')', 'O'), ('which', 'O'), ('may', 'O'), ('cause', 'O'), ('serious', 'O'), ('reactions', 'O'), ('in', 'O'), ('premature', 'O'), ('or', 'O'), ('low', 'O'), ('birth-weight', 'O'), ('infants', 'O'), ('.', 'O'), ('(', 'O'), ('5.3', 'O'), (')', 'O'), ('*', 'O'), ('Patients', 'O'), ('with', 'O'), ('severe', 'O'), ('renal', 'O'), ('impairment', 'O'), ('may', 'O'), ('have', 'O'), ('increased', 'O'), ('radiation', 'O'), ('exposure', 'O'), ('and', 'O'), ('decreased', 'O'), ('quality', 'O'), ('of', 'O'), ('AdreView', 'O'), ('images', 'O'), ('.', 'O'), ('(', 'O'), ('5.4', 'O'), (')', 'O'), ('*', 'O'), ('Failure', 'O'), ('to', 'O'), ('block', 'O'), ('thyroid', 'O'), ('iodine', 'O'), ('uptake', 'O'), ('may', 'O'), ('result', 'O'), ('in', 'O'), ('iodine', 'O'), ('123', 'O'), ('accumulation', 'O'), ('in', 'O'), ('the', 'O'), ('thyroid', 'O'), ('.', 'O'), ('(', 'O'), ('5.6', 'O'), (')', 'O'), ('5.1', 'O'), ('Hypersensitivity', 'O'), ('Reactions', 'O'), ('Hypersensitivity', 'B-AdverseReaction'), ('reactions', 'I-AdverseReaction'), ('have', 'O'), ('been', 'O'), ('reported', 'O'), ('following', 'O'), ('AdreView', 'O'), ('administration', 'O'), ('.', 'O'), ('Prior', 'O'), ('to', 'O'), ('administration', 'O'), (',', 'O'), ('question', 'O'), ('the', 'O'), ('patient', 'O'), ('for', 'O'), ('a', 'O'), ('history', 'O'), ('of', 'O'), ('prior', 'O'), ('reactions', 'O'), ('to', 'O'), ('iodine', 'O'), (',', 'O'), ('an', 'O'), ('iodine-containing', 'O'), ('contrast', 'O'), ('agent', 'O'), ('or', 'O'), ('other', 'O'), ('products', 'O'), ('containing', 'O'), ('iodine', 'O'), ('.', 'O'), ('If', 'O'), ('the', 'O'), ('patient', 'O'), ('is', 'O'), ('known', 'O'), ('or', 'O'), ('strongly', 'O'), ('suspected', 'O'), ('to', 'O'), ('have', 'O'), ('hypersensitivity', 'O'), ('to', 'O'), ('iodine', 'O'), (',', 'O'), ('an', 'O'), ('iodine-containing', 'O'), ('contrast', 'O'), ('agent', 'O'), ('or', 'O'), ('other', 'O'), ('products', 'O'), ('containing', 'O'), ('iodine', 'O'), (',', 'O'), ('the', 'O'), ('decision', 'O'), ('to', 'O'), ('administer', 'O'), ('AdreView', 'O'), ('should', 'O'), ('be', 'O'), ('based', 'O'), ('upon', 'O'), ('an', 'O'), ('assessment', 'O'), ('of', 'O'), ('the', 'O'), ('expected', 'O'), ('benefits', 'O'), ('compared', 'O'), ('to', 'O'), ('the', 'O'), ('potential', 'O'), ('hypersensitivity', 'O'), ('risks', 'O'), ('.', 'O'), ('Have', 'O'), ('anaphylactic', 'O'), ('and', 'O'), ('hypersensitivity', 'O'), ('treatment', 'O'), ('measures', 'O'), ('available', 'O'), ('prior', 'O'), ('to', 'O'), ('AdreView', 'O'), ('administration', 'O'), ('[', 'O'), ('see', 'O'), ('Adverse', 'O'), ('Reactions', 'O'), ('(', 'O'), ('6.2', 'O'), (')', 'O'), (']', 'O'), ('.', 'O'), ('5.2', 'O'), ('Imaging', 'O'), ('Errors', 'O'), ('due', 'O'), ('to', 'O'), ('Concomitant', 'O'), ('Medications', 'O'), ('and', 'O'), ('Risks', 'O'), ('Associated', 'O'), ('with', 'O'), ('Withdrawal', 'O'), ('of', 'O'), ('Medications', 'O'), ('Many', 'O'), ('medications', 'O'), ('have', 'O'), ('the', 'O'), ('potential', 'O'), ('to', 'O'), ('interfere', 'O'), ('with', 'O'), ('AdreView', 'O'), ('imaging', 'O'), ('and', 'O'), ('review', 'O'), ('of', 'O'), ('the', 'O'), ('patient', 'O'), (\"'s\", 'O'), ('medications', 'O'), ('is', 'O'), ('required', 'O'), ('prior', 'O'), ('to', 'O'), ('AdreView', 'O'), ('dosing', 'O'), ('due', 'O'), ('to', 'O'), ('the', 'O'), ('risk', 'O'), ('for', 'O'), ('unreliable', 'O'), ('imaging', 'O'), ('results', 'O'), ('.', 'O'), ('If', 'O'), ('the', 'O'), ('AdreView', 'O'), ('imaging', 'O'), ('information', 'O'), ('is', 'O'), ('essential', 'O'), ('for', 'O'), ('clinical', 'O'), ('care', 'O'), (',', 'O'), ('consider', 'O'), ('the', 'O'), ('withdrawal', 'O'), ('of', 'O'), ('the', 'O'), ('following', 'O'), ('categories', 'O'), ('of', 'O'), ('medications', 'O'), ('if', 'O'), ('the', 'O'), ('withdrawal', 'O'), ('can', 'O'), ('be', 'O'), ('accomplished', 'O'), ('safely', 'O'), (':', 'O'), ('antihypertensives', 'O'), ('that', 'O'), ('deplete', 'O'), ('norepinephrine', 'O'), ('stores', 'O'), ('or', 'O'), ('inhibit', 'O'), ('reuptake', 'O'), ('(', 'O'), ('e.g.', 'O'), (',', 'O'), ('reserpine', 'O'), (',', 'O'), ('labetalol', 'O'), (')', 'O'), (',', 'O'), ('antidepressants', 'O'), ('that', 'O'), ('inhibit', 'O'), ('norepinephrine', 'O'), ('transporter', 'O'), ('function', 'O'), ('(', 'O'), ('e.g.', 'O'), (',', 'O'), ('amitriptyline', 'O'), ('and', 'O'), ('derivatives', 'O'), (',', 'O'), ('imipramine', 'O'), ('and', 'O'), ('derivatives', 'O'), (',', 'O'), ('selective', 'O'), ('serotonin', 'O'), ('reuptake', 'O'), ('inhibitors', 'O'), (')', 'O'), (',', 'O'), ('and', 'O'), ('sympathomimetic', 'O'), ('amines', 'O'), ('(', 'O'), ('e.g.', 'O'), (',', 'O'), ('phenylephrine', 'O'), (',', 'O'), ('phenylpropanolamine', 'O'), (',', 'O'), ('pseudoephedrine', 'O'), ('and', 'O'), ('ephedrine', 'O'), (')', 'O'), ('.', 'O'), ('The', 'O'), ('period', 'O'), ('of', 'O'), ('time', 'O'), ('necessary', 'O'), ('to', 'O'), ('discontinue', 'O'), ('any', 'O'), ('specific', 'O'), ('medication', 'O'), ('prior', 'O'), ('to', 'O'), ('AdreView', 'O'), ('dosing', 'O'), ('has', 'O'), ('not', 'O'), ('been', 'O'), ('established', 'O'), ('[', 'O'), ('see', 'O'), ('Drug', 'O'), ('Interactions', 'O'), ('(', 'O'), ('7', 'O'), (')', 'O'), (']', 'O'), ('.', 'O'), ('Pheochromocytoma', 'O'), ('and', 'O'), ('Neuroblastoma', 'O'), ('Drugs', 'O'), ('which', 'O'), ('interfere', 'O'), ('with', 'O'), ('norepinephrine', 'O'), ('uptake', 'O'), ('in', 'O'), ('neuroendocrine', 'O'), ('tumors', 'O'), ('may', 'O'), ('lead', 'O'), ('to', 'O'), ('false', 'O'), ('negative', 'O'), ('imaging', 'O'), ('results', 'O'), ('.', 'O'), ('When', 'O'), ('medically', 'O'), ('feasible', 'O'), (',', 'O'), ('stop', 'O'), ('these', 'O'), ('drugs', 'O'), ('before', 'O'), ('AdreView', 'O'), ('administration', 'O'), ('and', 'O'), ('monitor', 'O'), ('patients', 'O'), ('for', 'O'), ('the', 'O'), ('occurrence', 'O'), ('of', 'O'), ('clinically', 'O'), ('significant', 'O'), ('withdrawal', 'O'), ('symptoms', 'O'), (',', 'O'), ('especially', 'O'), ('patients', 'O'), ('with', 'O'), ('elevated', 'O'), ('levels', 'O'), ('of', 'O'), ('circulating', 'O'), ('catecholamines', 'O'), ('and', 'O'), ('their', 'O'), ('metabolites', 'O'), ('.', 'O'), ('Congestive', 'O'), ('Heart', 'O'), ('Failure', 'O'), ('Many', 'O'), ('commonly', 'O'), ('used', 'O'), ('cardiovascular', 'O'), (',', 'O'), ('pulmonary', 'O'), (',', 'O'), ('and', 'O'), ('neuropsychiatric', 'O'), ('medications', 'O'), ('interfere', 'O'), ('with', 'O'), ('AdreView', 'O'), ('imaging', 'O'), ('(', 'O'), ('see', 'O'), ('above', 'O'), (')', 'O'), ('.', 'O'), ('AdreView', 'O'), ('imaging', 'O'), ('should', 'O'), ('not', 'O'), ('be', 'O'), ('performed', 'O'), ('if', 'O'), ('discontinuation', 'O'), ('of', 'O'), ('these', 'O'), ('medications', 'O'), ('would', 'O'), ('involve', 'O'), ('risks', 'O'), ('which', 'O'), ('outweigh', 'O'), ('the', 'O'), ('value', 'O'), ('of', 'O'), ('AdreView', 'O'), ('imaging', 'O'), ('.', 'O'), ('In', 'O'), ('clinical', 'O'), ('trials', 'O'), (',', 'O'), ('patients', 'O'), ('were', 'O'), ('not', 'O'), ('eligible', 'O'), ('for', 'O'), ('AdreView', 'O'), ('imaging', 'O'), ('if', 'O'), ('they', 'O'), ('were', 'O'), ('receiving', 'O'), ('medications', 'O'), ('in', 'O'), ('the', 'O'), ('above', 'O'), ('categories', 'O'), ('and', 'O'), ('the', 'O'), ('risks', 'O'), ('for', 'O'), ('medication', 'O'), ('withdrawal', 'O'), ('were', 'O'), ('unacceptable', 'O'), ('or', 'O'), ('if', 'O'), ('they', 'O'), ('were', 'O'), ('not', 'O'), ('clinically', 'O'), ('stable', 'O'), ('(', 'O'), ('e.g.', 'O'), (',', 'O'), ('experiencing', 'O'), ('continuing', 'O'), ('chest', 'O'), ('pain', 'O'), (',', 'O'), ('hemodynamic', 'O'), ('instability', 'O'), (',', 'O'), ('or', 'O'), ('clinically', 'O'), ('significant', 'O'), ('arrhythmia', 'O'), (')', 'O'), ('.', 'O'), ('5.3', 'O'), ('Risks', 'O'), ('for', 'O'), ('Benzyl', 'O'), ('Alcohol', 'O'), ('Toxicity', 'O'), ('in', 'O'), ('Infants', 'O'), ('AdreView', 'O'), ('contains', 'O'), ('benzyl', 'O'), ('alcohol', 'O'), ('at', 'O'), ('a', 'O'), ('concentration', 'O'), ('of', 'O'), ('10.3', 'O'), ('mg/mL', 'O'), ('.', 'O'), ('Benzyl', 'O'), ('alcohol', 'O'), ('has', 'O'), ('been', 'O'), ('associated', 'O'), ('with', 'O'), ('a', 'O'), ('fatal', 'B-AdverseReaction'), ('``', 'O'), ('Gasping', 'B-AdverseReaction'), ('Syndrome', 'I-AdverseReaction'), (\"''\", 'O'), ('in', 'O'), ('premature', 'O'), ('infants', 'O'), ('and', 'O'), ('infants', 'O'), ('of', 'O'), ('low', 'O'), ('birth', 'O'), ('weight', 'O'), ('.', 'O'), ('Exposure', 'O'), ('to', 'O'), ('excessive', 'O'), ('amounts', 'O'), ('of', 'O'), ('benzyl', 'O'), ('alcohol', 'O'), ('has', 'O'), ('been', 'O'), ('associated', 'O'), ('with', 'O'), ('toxicity', 'O'), ('(', 'O'), ('hypotension', 'O'), (',', 'O'), ('metabolic', 'O'), ('acidosis', 'O'), (')', 'O'), (',', 'O'), ('particularly', 'O'), ('in', 'O'), ('neonates', 'O'), (',', 'O'), ('and', 'O'), ('an', 'O'), ('increased', 'O'), ('incidence', 'O'), ('of', 'O'), ('kernicterus', 'O'), (',', 'O'), ('particularly', 'O'), ('in', 'O'), ('small', 'O'), ('preterm', 'O'), ('infants', 'O'), ('.', 'O'), ('There', 'O'), ('have', 'O'), ('been', 'O'), ('rare', 'O'), ('reports', 'O'), ('of', 'O'), ('deaths', 'O'), (',', 'O'), ('primarily', 'O'), ('in', 'O'), ('preterm', 'O'), ('infants', 'O'), (',', 'O'), ('associated', 'O'), ('with', 'O'), ('exposure', 'O'), ('to', 'O'), ('excessive', 'O'), ('amounts', 'O'), ('of', 'O'), ('benzyl', 'O'), ('alcohol', 'O'), ('[', 'O'), ('see', 'O'), ('Description', 'O'), ('(', 'O'), ('11', 'O'), (')', 'O'), (']', 'O'), ('.', 'O'), ('Observe', 'O'), ('infants', 'O'), ('for', 'O'), ('signs', 'O'), ('or', 'O'), ('symptoms', 'O'), ('of', 'O'), ('benzyl', 'O'), ('alcohol', 'O'), ('toxicity', 'O'), ('following', 'O'), ('AdreView', 'O'), ('administration', 'O'), ('.', 'O'), ('AdreView', 'O'), ('safety', 'O'), ('and', 'O'), ('effectiveness', 'O'), ('have', 'O'), ('not', 'O'), ('been', 'O'), ('established', 'O'), ('in', 'O'), ('neonates', 'O'), ('(', 'O'), ('pediatric', 'O'), ('patients', 'O'), ('below', 'O'), ('the', 'O'), ('age', 'O'), ('of', 'O'), ('1', 'O'), ('month', 'O'), (')', 'O'), ('.', 'O'), ('5.4', 'O'), ('Increased', 'O'), ('Radiation', 'O'), ('Exposure', 'O'), ('in', 'O'), ('Patients', 'O'), ('with', 'O'), ('Severe', 'O'), ('Renal', 'O'), ('Impairment', 'O'), ('AdreView', 'O'), ('is', 'O'), ('cleared', 'O'), ('by', 'O'), ('glomerular', 'O'), ('filtration', 'O'), ('and', 'O'), ('is', 'O'), ('not', 'O'), ('dialyzable', 'O'), ('.', 'O'), ('The', 'O'), ('radiation', 'O'), ('dose', 'O'), ('to', 'O'), ('patients', 'O'), ('with', 'O'), ('severe', 'O'), ('renal', 'O'), ('impairment', 'O'), ('may', 'O'), ('be', 'O'), ('increased', 'O'), ('due', 'O'), ('to', 'O'), ('the', 'O'), ('delayed', 'O'), ('elimination', 'O'), ('of', 'O'), ('the', 'O'), ('drug', 'O'), ('.', 'O'), ('Delayed', 'O'), ('AdreView', 'O'), ('clearance', 'O'), ('may', 'O'), ('also', 'O'), ('reduce', 'O'), ('the', 'O'), ('target', 'O'), ('to', 'O'), ('background', 'O'), ('ratios', 'O'), ('and', 'O'), ('decrease', 'O'), ('the', 'O'), ('quality', 'O'), ('of', 'O'), ('scintigraphic', 'O'), ('images', 'O'), ('.', 'O'), ('These', 'O'), ('risks', 'O'), ('importantly', 'O'), ('may', 'O'), ('limit', 'O'), ('the', 'O'), ('role', 'O'), ('of', 'O'), ('AdreView', 'O'), ('in', 'O'), ('the', 'O'), ('diagnostic', 'O'), ('evaluation', 'O'), ('of', 'O'), ('patients', 'O'), ('with', 'O'), ('severe', 'O'), ('renal', 'O'), ('impairment', 'O'), ('.', 'O'), ('AdreView', 'O'), ('safety', 'O'), ('and', 'O'), ('efficacy', 'O'), ('have', 'O'), ('not', 'O'), ('been', 'O'), ('established', 'O'), ('in', 'O'), ('these', 'O'), ('patients', 'O'), ('[', 'O'), ('see', 'O'), ('Clinical', 'O'), ('Pharmacology', 'O'), ('(', 'O'), ('12.2', 'O'), (')', 'O'), (']', 'O'), ('.', 'O'), ('5.5', 'O'), ('Imaging', 'O'), ('Errors', 'O'), ('due', 'O'), ('to', 'O'), ('Conditions', 'O'), ('that', 'O'), ('Affect', 'O'), ('the', 'O'), ('Sympathetic', 'O'), ('Nervous', 'O'), ('System', 'O'), ('Individuals', 'O'), ('with', 'O'), ('conditions', 'O'), ('that', 'O'), ('affect', 'O'), ('the', 'O'), ('sympathetic', 'O'), ('nervous', 'O'), ('system', 'O'), (',', 'O'), ('e.g.', 'O'), (',', 'O'), ('Parkinsonian', 'O'), ('syndromes', 'O'), ('such', 'O'), ('as', 'O'), ('Parkinson', 'O'), (\"'s\", 'O'), ('disease', 'O'), ('or', 'O'), ('multiple', 'O'), ('system', 'O'), ('atrophy', 'O'), (',', 'O'), ('may', 'O'), ('show', 'O'), ('decreased', 'O'), ('cardiac', 'O'), ('uptake', 'O'), ('of', 'O'), ('AdreView', 'O'), ('independent', 'O'), ('of', 'O'), ('heart', 'O'), ('disease', 'O'), ('.', 'O'), ('5.6', 'O'), ('Thyroid', 'O'), ('Accumulation', 'O'), ('Failure', 'O'), ('to', 'O'), ('block', 'O'), ('thyroid', 'O'), ('uptake', 'O'), ('of', 'O'), ('iodine', 'O'), ('123', 'O'), ('may', 'O'), ('result', 'O'), ('in', 'O'), ('an', 'O'), ('increased', 'O'), ('long', 'O'), ('term', 'O'), ('risk', 'O'), ('for', 'O'), ('thyroid', 'O'), ('neoplasia', 'O'), ('[', 'O'), ('see', 'O'), ('Dosage', 'O'), ('and', 'O'), ('Administration', 'O'), ('(', 'O'), ('2.2', 'O'), (')', 'O'), (']', 'O'), ('.', 'O'), ('5.7', 'O'), ('Hypertension', 'O'), ('Assess', 'O'), ('the', 'O'), ('patient', 'O'), (\"'s\", 'O'), ('pulse', 'O'), ('and', 'O'), ('blood', 'O'), ('pressure', 'O'), ('before', 'O'), ('and', 'O'), ('intermittently', 'O'), ('for', 'O'), ('30', 'O'), ('minutes', 'O'), ('after', 'O'), ('AdreView', 'O'), ('administration', 'O'), ('.', 'O'), ('AdreView', 'O'), ('may', 'B-Factor'), ('increase', 'O'), ('release', 'O'), ('of', 'O'), ('norepinephrine', 'O'), ('from', 'O'), ('chromaffin', 'O'), ('granules', 'O'), ('and', 'O'), ('produce', 'O'), ('a', 'O'), ('transient', 'B-AdverseReaction'), ('episode', 'I-AdverseReaction'), ('of', 'I-AdverseReaction'), ('hypertension', 'I-AdverseReaction'), (',', 'O'), ('although', 'O'), ('this', 'O'), ('was', 'O'), ('not', 'O'), ('observed', 'O'), ('in', 'O'), ('the', 'O'), ('clinical', 'O'), ('studies', 'O'), ('.', 'O'), ('Prior', 'O'), ('to', 'O'), ('AdreView', 'O'), ('administration', 'O'), (',', 'O'), ('ensure', 'O'), ('emergency', 'O'), ('cardiac', 'O'), ('and', 'O'), ('anti-hypertensive', 'O'), ('treatments', 'O'), ('are', 'O'), ('readily', 'O'), ('available', 'O'), ('.', 'O')]\n"
     ]
    }
   ],
   "source": [
    "for section in root[0].findall('Section'):\n",
    "    tags = []\n",
    "    for mention in root[1].findall('Mention'):\n",
    "        if mention.attrib['section'] == section.attrib['id']:\n",
    "            tags.append(mention)\n",
    "    tagged = BIO_tagging(tags, section.text)\n",
    "    print(tagged)\n"
   ]
  },
  {
   "cell_type": "code",
   "execution_count": 16,
   "metadata": {},
   "outputs": [
    {
     "name": "stdout",
     "output_type": "stream",
     "text": [
      "[('6', 'CD'), ('ADVERSE', 'JJ'), ('REACTIONS', 'NNP'), ('EXCERPT', 'NNP'), (':', ':'), ('Serious', 'JJ'), ('hypersensitivity', 'NN'), ('reactions', 'NNS'), ('have', 'VBP'), ('been', 'VBN'), ('reported', 'VBN'), ('following', 'VBG'), ('AdreView', 'NNP'), ('administration', 'NN'), ('.', '.'), ('The', 'DT'), ('most', 'RBS'), ('common', 'JJ'), ('adverse', 'JJ'), ('reactions', 'NNS'), (',', ','), ('dizziness', 'NN'), (',', ','), ('rash', 'NN'), (',', ','), ('pruritis', 'NN'), (',', ','), ('flushing', 'NN'), (',', ','), ('headache', 'NN'), (',', ','), ('and', 'CC'), ('injection', 'NN'), ('site', 'NN'), ('hemorrhage', 'NN'), ('occurred', 'VBD'), ('in', 'IN'), ('1', 'CD'), ('.', '.'), ('3', 'CD'), ('%', 'NN'), ('of', 'IN'), ('patients', 'NNS'), ('.', '.'), ('(', '('), ('6', 'CD'), ('.', '.'), ('1', 'CD'), (',', ','), ('6', 'CD'), ('.', '.'), ('2', 'CD'), (')', ')'), ('To', 'TO'), ('report', 'VB'), ('SUSPECTED', 'NNP'), ('ADVERSE', 'NNP'), ('REACTIONS', 'NNP'), (',', ','), ('contact', 'NN'), ('GE', 'NNP'), ('Healthcare', 'NNP'), ('at', 'IN'), ('1-800-654-0118', 'CD'), ('or', 'CC'), ('FDA', 'NNP'), ('at', 'IN'), ('1-800-FDA-1088', 'CD'), ('or', 'CC'), ('www', 'VB'), ('.', '.'), ('fda', 'NN'), ('.', '.'), ('gov', 'JJ'), ('medwatch', 'NN'), ('.', '.'), ('6', 'CD'), ('.', '.'), ('1', 'CD'), ('Clinical', 'JJ'), ('Study', 'NNP'), ('Experience', 'NNP'), ('Because', 'IN'), ('clinical', 'JJ'), ('trials', 'NNS'), ('are', 'VBP'), ('conducted', 'VBN'), ('under', 'IN'), ('widely', 'RB'), ('varying', 'VBG'), ('conditions', 'NNS'), (',', ','), ('adverse', 'JJ'), ('reaction', 'NN'), ('rates', 'NNS'), ('observed', 'VBD'), ('in', 'IN'), ('the', 'DT'), ('clinical', 'JJ'), ('trials', 'NNS'), ('of', 'IN'), ('a', 'DT'), ('drug', 'NN'), ('can', 'MD'), ('not', 'RB'), ('be', 'VB'), ('directly', 'RB'), ('compared', 'VBN'), ('to', 'TO'), ('rates', 'NNS'), ('in', 'IN'), ('the', 'DT'), ('clinical', 'JJ'), ('trials', 'NNS'), ('of', 'IN'), ('another', 'DT'), ('drug', 'NN'), ('and', 'CC'), ('may', 'MD'), ('not', 'RB'), ('reflect', 'VB'), ('the', 'DT'), ('rates', 'NNS'), ('observed', 'VBD'), ('in', 'IN'), ('practice', 'NN'), ('.', '.'), ('During', 'IN'), ('clinical', 'JJ'), ('development', 'NN'), ('1346', 'CD'), ('patients', 'NNS'), ('were', 'VBD'), ('exposed', 'VBN'), ('to', 'TO'), ('AdreView', 'NNP'), (',', ','), ('251', 'CD'), ('patients', 'NNS'), ('with', 'IN'), ('known', 'VBN'), ('or', 'CC'), ('suspected', 'VBN'), ('pheochromocytoma', 'NN'), ('or', 'CC'), ('neuroblastoma', 'NN'), (',', ','), ('985', 'CD'), ('patients', 'NNS'), ('with', 'IN'), ('heart', 'NN'), ('failure', 'NN'), (',', ','), ('and', 'CC'), ('110', 'CD'), ('control', 'NN'), ('patients', 'NNS'), ('.', '.'), ('All', 'DT'), ('patients', 'NNS'), ('were', 'VBD'), ('monitored', 'VBN'), ('for', 'IN'), ('adverse', 'JJ'), ('reactions', 'NNS'), ('over', 'IN'), ('a', 'DT'), ('24', 'CD'), ('hour', 'NN'), ('period', 'NN'), ('following', 'VBG'), ('AdreView', 'NNP'), ('administration', 'NN'), ('.', '.'), ('Pheochromocytoma', 'NNP'), ('and', 'CC'), ('Neuroblastoma', 'NNP'), ('Serious', 'NNP'), ('adverse', 'JJ'), ('reactions', 'NNS'), ('were', 'VBD'), ('not', 'RB'), ('observed', 'VBN'), ('in', 'IN'), ('the', 'DT'), ('AdreView', 'NNP'), ('clinical', 'JJ'), ('study', 'NN'), ('.', '.'), ('Adverse', 'JJ'), ('reactions', 'NNS'), ('were', 'VBD'), ('all', 'DT'), ('mild', 'JJ'), ('to', 'TO'), ('moderate', 'VB'), ('in', 'IN'), ('severity', 'NN'), ('and', 'CC'), ('were', 'VBD'), ('predominantly', 'RB'), ('isolated', 'VBN'), ('occurrences', 'NNS'), ('(', '('), ('2', 'CD'), ('patients', 'NNS'), (')', ')'), ('of', 'IN'), ('one', 'CD'), ('of', 'IN'), ('the', 'DT'), ('following', 'JJ'), ('reactions', 'NNS'), (':', ':'), ('dizziness', 'NN'), (',', ','), ('rash', 'NN'), (',', ','), ('pruritus', 'NN'), (',', ','), ('flushing', 'VBG'), ('or', 'CC'), ('injection', 'NN'), ('site', 'NN'), ('hemorrhage', 'NN'), ('.', '.'), ('Congestive', 'JJ'), ('Heart', 'NNP'), ('Failure', 'NNP'), ('No', 'NNP'), ('serious', 'JJ'), ('adverse', 'JJ'), ('reactions', 'NNS'), ('to', 'TO'), ('AdreView', 'NNP'), ('were', 'VBD'), ('observed', 'VBN'), ('in', 'IN'), ('clinical', 'JJ'), ('studies', 'NNS'), ('.', '.'), ('Adverse', 'JJ'), ('reactions', 'NNS'), ('that', 'WDT'), ('occurred', 'VBD'), ('with', 'IN'), ('a', 'DT'), ('frequency', 'NN'), ('1', 'CD'), ('%', 'NN'), ('were', 'VBD'), ('associated', 'VBN'), ('with', 'IN'), ('the', 'DT'), ('injection', 'NN'), ('site', 'NN'), ('(', '('), ('1', 'CD'), ('.', '.'), ('3', 'CD'), ('%', 'NN'), (')', ')'), (',', ','), ('problems', 'NNS'), ('such', 'JJ'), ('as', 'IN'), ('hematoma', 'NN'), ('and', 'CC'), ('bruising', 'NN'), ('.', '.'), ('The', 'DT'), ('other', 'JJ'), ('most', 'RBS'), ('common', 'JJ'), ('reactions', 'NNS'), ('were', 'VBD'), ('flushing', 'VBG'), ('(', '('), ('0', 'CD'), ('.', '.'), ('3', 'CD'), ('%', 'NN'), (')', ')'), ('and', 'CC'), ('headache', 'NN'), ('(', '('), ('0', 'CD'), ('.', '.'), ('4', 'CD'), ('%', 'NN'), (')', ')'), ('.', '.'), ('The', 'DT'), ('adverse', 'JJ'), ('reactions', 'NNS'), ('were', 'VBD'), ('predominantly', 'RB'), ('of', 'IN'), ('mild', 'NN'), ('to', 'TO'), ('moderate', 'VB'), ('intensity', 'NN'), ('.', '.'), ('6', 'CD'), ('.', '.'), ('2', 'CD'), ('Postmarketing', 'VBG'), ('Experience', 'NN'), ('Because', 'IN'), ('postmarketing', 'VBG'), ('reactions', 'NNS'), ('are', 'VBP'), ('reported', 'VBN'), ('voluntarily', 'RB'), ('from', 'IN'), ('a', 'DT'), ('population', 'NN'), ('of', 'IN'), ('uncertain', 'JJ'), ('size', 'NN'), (',', ','), ('it', 'PRP'), ('is', 'VBZ'), ('not', 'RB'), ('always', 'RB'), ('possible', 'JJ'), ('to', 'TO'), ('reliably', 'VB'), ('estimate', 'VB'), ('their', 'PRP$'), ('frequency', 'NN'), ('or', 'CC'), ('establish', 'VB'), ('a', 'DT'), ('causal', 'NN'), ('relationship', 'NN'), ('to', 'TO'), ('drug', 'NN'), ('exposure', 'NN'), ('.', '.'), ('Hypersensitivity', 'NNP'), ('reactions', 'NNS'), ('have', 'VBP'), ('uncommonly', 'RB'), ('been', 'VBN'), ('reported', 'VBN'), ('during', 'IN'), ('the', 'DT'), ('postmarketing', 'NN'), ('use', 'NN'), ('of', 'IN'), ('AdreView', 'NNP'), ('see', 'VBP'), ('Warnings', 'NNP'), ('and', 'CC'), ('Precautions', 'NNP'), ('(', '('), ('5', 'CD'), ('.', '.'), ('1', 'CD'), (')', ')'), ('.', '.')]\n",
      "[('5', 'CD'), ('WARNINGS', 'NNP'), ('AND', 'NNP'), ('PRECAUTIONS', 'NNP'), ('EXCERPT', 'NNP'), (':', ':'), ('Hypersensitivity', 'NN'), ('reactions', 'NNS'), ('have', 'VBP'), ('followed', 'VBN'), ('AdreView', 'NNP'), ('administration', 'NN'), ('.', '.'), ('Have', 'VBP'), ('anaphylactic', 'JJ'), ('and', 'CC'), ('hypersensitivity', 'NN'), ('treatment', 'NN'), ('measures', 'NNS'), ('available', 'JJ'), ('prior', 'RB'), ('to', 'TO'), ('AdreView', 'NNP'), ('administration', 'NN'), ('.', '.'), ('(', '('), ('5', 'CD'), ('.', '.'), ('1', 'CD'), (')', ')'), ('Drugs', 'NNP'), ('which', 'WDT'), ('block', 'VBP'), ('norepinephrine', 'JJ'), ('uptake', 'NN'), ('or', 'CC'), ('deplete', 'JJ'), ('norepinephrine', 'NN'), ('stores', 'NNS'), ('may', 'MD'), ('decrease', 'VB'), ('AdreView', 'NNP'), ('uptake', 'NN'), ('.', '.'), ('When', 'WRB'), ('medically', 'RB'), ('feasible', 'JJ'), (',', ','), ('stop', 'VB'), ('these', 'DT'), ('drugs', 'NNS'), ('before', 'IN'), ('AdreView', 'NNP'), ('administration', 'NN'), ('and', 'CC'), ('monitor', 'NN'), ('patients', 'NNS'), ('for', 'IN'), ('withdrawal', 'NN'), ('signs', 'NNS'), ('and', 'CC'), ('symptoms', 'NNS'), ('.', '.'), ('(', '('), ('5', 'CD'), ('.', '.'), ('2', 'CD'), (')', ')'), ('AdreView', 'NNP'), ('contains', 'VBZ'), ('benzyl', 'JJ'), ('alcohol', 'NN'), ('(', '('), ('10', 'CD'), ('.', '.'), ('3', 'CD'), ('mg', 'JJ'), ('mL', 'NN'), (')', ')'), ('which', 'WDT'), ('may', 'MD'), ('cause', 'VB'), ('serious', 'JJ'), ('reactions', 'NNS'), ('in', 'IN'), ('premature', 'NN'), ('or', 'CC'), ('low', 'JJ'), ('birth-weight', 'JJ'), ('infants', 'NNS'), ('.', '.'), ('(', '('), ('5', 'CD'), ('.', '.'), ('3', 'CD'), (')', ')'), ('Patients', 'NNS'), ('with', 'IN'), ('severe', 'JJ'), ('renal', 'JJ'), ('impairment', 'NN'), ('may', 'MD'), ('have', 'VB'), ('increased', 'VBN'), ('radiation', 'NN'), ('exposure', 'NN'), ('and', 'CC'), ('decreased', 'JJ'), ('quality', 'NN'), ('of', 'IN'), ('AdreView', 'NNP'), ('images', 'NNS'), ('.', '.'), ('(', '('), ('5', 'CD'), ('.', '.'), ('4', 'CD'), (')', ')'), ('Failure', 'NN'), ('to', 'TO'), ('block', 'VB'), ('thyroid', 'JJ'), ('iodine', 'NN'), ('uptake', 'NN'), ('may', 'MD'), ('result', 'VB'), ('in', 'IN'), ('iodine', 'NN'), ('123', 'CD'), ('accumulation', 'NN'), ('in', 'IN'), ('the', 'DT'), ('thyroid', 'NN'), ('.', '.'), ('(', '('), ('5', 'CD'), ('.', '.'), ('6', 'CD'), (')', ')'), ('5', 'CD'), ('.', '.'), ('1', 'CD'), ('Hypersensitivity', 'NNP'), ('Reactions', 'NNP'), ('Hypersensitivity', 'NNP'), ('reactions', 'NNS'), ('have', 'VBP'), ('been', 'VBN'), ('reported', 'VBN'), ('following', 'VBG'), ('AdreView', 'NNP'), ('administration', 'NN'), ('.', '.'), ('Prior', 'NNP'), ('to', 'TO'), ('administration', 'NN'), (',', ','), ('question', 'VBP'), ('the', 'DT'), ('patient', 'NN'), ('for', 'IN'), ('a', 'DT'), ('history', 'NN'), ('of', 'IN'), ('prior', 'JJ'), ('reactions', 'NNS'), ('to', 'TO'), ('iodine', 'VB'), (',', ','), ('an', 'DT'), ('iodine-containing', 'JJ'), ('contrast', 'NN'), ('agent', 'NN'), ('or', 'CC'), ('other', 'JJ'), ('products', 'NNS'), ('containing', 'VBG'), ('iodine', 'NN'), ('.', '.'), ('If', 'IN'), ('the', 'DT'), ('patient', 'NN'), ('is', 'VBZ'), ('known', 'VBN'), ('or', 'CC'), ('strongly', 'RB'), ('suspected', 'VBN'), ('to', 'TO'), ('have', 'VB'), ('hypersensitivity', 'NN'), ('to', 'TO'), ('iodine', 'VB'), (',', ','), ('an', 'DT'), ('iodine-containing', 'JJ'), ('contrast', 'NN'), ('agent', 'NN'), ('or', 'CC'), ('other', 'JJ'), ('products', 'NNS'), ('containing', 'VBG'), ('iodine', 'NN'), (',', ','), ('the', 'DT'), ('decision', 'NN'), ('to', 'TO'), ('administer', 'VB'), ('AdreView', 'NNP'), ('should', 'MD'), ('be', 'VB'), ('based', 'VBN'), ('upon', 'IN'), ('an', 'DT'), ('assessment', 'NN'), ('of', 'IN'), ('the', 'DT'), ('expected', 'JJ'), ('benefits', 'NNS'), ('compared', 'VBN'), ('to', 'TO'), ('the', 'DT'), ('potential', 'JJ'), ('hypersensitivity', 'NN'), ('risks', 'NNS'), ('.', '.'), ('Have', 'VBP'), ('anaphylactic', 'JJ'), ('and', 'CC'), ('hypersensitivity', 'NN'), ('treatment', 'NN'), ('measures', 'NNS'), ('available', 'JJ'), ('prior', 'RB'), ('to', 'TO'), ('AdreView', 'NNP'), ('administration', 'NN'), ('see', 'VBP'), ('Adverse', 'JJ'), ('Reactions', 'NNP'), ('(', '('), ('6', 'CD'), ('.', '.'), ('2', 'CD'), (')', ')'), ('.', '.'), ('5', 'CD'), ('.', '.'), ('2', 'CD'), ('Imaging', 'JJ'), ('Errors', 'NNS'), ('due', 'JJ'), ('to', 'TO'), ('Concomitant', 'NNP'), ('Medications', 'NNP'), ('and', 'CC'), ('Risks', 'NNP'), ('Associated', 'NNP'), ('with', 'IN'), ('Withdrawal', 'NNP'), ('of', 'IN'), ('Medications', 'NNP'), ('Many', 'NNP'), ('medications', 'NNS'), ('have', 'VBP'), ('the', 'DT'), ('potential', 'JJ'), ('to', 'TO'), ('interfere', 'VB'), ('with', 'IN'), ('AdreView', 'NNP'), ('imaging', 'VBG'), ('and', 'CC'), ('review', 'NN'), ('of', 'IN'), ('the', 'DT'), ('patient', 'NN'), ('is', 'VBZ'), ('medications', 'NNS'), ('is', 'VBZ'), ('required', 'VBN'), ('prior', 'RB'), ('to', 'TO'), ('AdreView', 'NNP'), ('dosing', 'VBG'), ('due', 'JJ'), ('to', 'TO'), ('the', 'DT'), ('risk', 'NN'), ('for', 'IN'), ('unreliable', 'JJ'), ('imaging', 'JJ'), ('results', 'NNS'), ('.', '.'), ('If', 'IN'), ('the', 'DT'), ('AdreView', 'NNP'), ('imaging', 'VBG'), ('information', 'NN'), ('is', 'VBZ'), ('essential', 'JJ'), ('for', 'IN'), ('clinical', 'JJ'), ('care', 'NN'), (',', ','), ('consider', 'VB'), ('the', 'DT'), ('withdrawal', 'NN'), ('of', 'IN'), ('the', 'DT'), ('following', 'JJ'), ('categories', 'NNS'), ('of', 'IN'), ('medications', 'NNS'), ('if', 'IN'), ('the', 'DT'), ('withdrawal', 'NN'), ('can', 'MD'), ('be', 'VB'), ('accomplished', 'VBN'), ('safely', 'RB'), (':', ':'), ('antihypertensives', 'NNS'), ('that', 'IN'), ('deplete', 'JJ'), ('norepinephrine', 'NN'), ('stores', 'NNS'), ('or', 'CC'), ('inhibit', 'NN'), ('reuptake', 'NN'), ('(', '('), ('e', 'NN'), ('.', '.'), ('g', 'NN'), ('.', '.'), (',', ','), ('reserpine', 'NN'), (',', ','), ('labetalol', 'NN'), (')', ')'), (',', ','), ('antidepressants', 'VBZ'), ('that', 'IN'), ('inhibit', 'NN'), ('norepinephrine', 'JJ'), ('transporter', 'NN'), ('function', 'NN'), ('(', '('), ('e', 'NN'), ('.', '.'), ('g', 'NN'), ('.', '.'), (',', ','), ('amitriptyline', 'NN'), ('and', 'CC'), ('derivatives', 'NNS'), (',', ','), ('imipramine', 'NN'), ('and', 'CC'), ('derivatives', 'NNS'), (',', ','), ('selective', 'JJ'), ('serotonin', 'NN'), ('reuptake', 'NN'), ('inhibitors', 'NNS'), (')', ')'), (',', ','), ('and', 'CC'), ('sympathomimetic', 'JJ'), ('amines', 'NNS'), ('(', '('), ('e', 'NN'), ('.', '.'), ('g', 'NN'), ('.', '.'), (',', ','), ('phenylephrine', 'NN'), (',', ','), ('phenylpropanolamine', 'NN'), (',', ','), ('pseudoephedrine', 'NN'), ('and', 'CC'), ('ephedrine', 'NN'), (')', ')'), ('.', '.'), ('The', 'DT'), ('period', 'NN'), ('of', 'IN'), ('time', 'NN'), ('necessary', 'JJ'), ('to', 'TO'), ('discontinue', 'VB'), ('any', 'DT'), ('specific', 'JJ'), ('medication', 'NN'), ('prior', 'RB'), ('to', 'TO'), ('AdreView', 'NNP'), ('dosing', 'NN'), ('has', 'VBZ'), ('not', 'RB'), ('been', 'VBN'), ('established', 'VBN'), ('see', 'VBP'), ('Drug', 'JJ'), ('Interactions', 'NNP'), ('(', '('), ('7', 'CD'), (')', ')'), ('.', '.'), ('Pheochromocytoma', 'NNP'), ('and', 'CC'), ('Neuroblastoma', 'NNP'), ('Drugs', 'NNP'), ('which', 'WDT'), ('interfere', 'RB'), ('with', 'IN'), ('norepinephrine', 'JJ'), ('uptake', 'NN'), ('in', 'IN'), ('neuroendocrine', 'JJ'), ('tumors', 'NNS'), ('may', 'MD'), ('lead', 'VB'), ('to', 'TO'), ('false', 'JJ'), ('negative', 'JJ'), ('imaging', 'NN'), ('results', 'NNS'), ('.', '.'), ('When', 'WRB'), ('medically', 'RB'), ('feasible', 'JJ'), (',', ','), ('stop', 'VB'), ('these', 'DT'), ('drugs', 'NNS'), ('before', 'IN'), ('AdreView', 'NNP'), ('administration', 'NN'), ('and', 'CC'), ('monitor', 'NN'), ('patients', 'NNS'), ('for', 'IN'), ('the', 'DT'), ('occurrence', 'NN'), ('of', 'IN'), ('clinically', 'RB'), ('significant', 'JJ'), ('withdrawal', 'NN'), ('symptoms', 'NNS'), (',', ','), ('especially', 'RB'), ('patients', 'NNS'), ('with', 'IN'), ('elevated', 'JJ'), ('levels', 'NNS'), ('of', 'IN'), ('circulating', 'VBG'), ('catecholamines', 'NNS'), ('and', 'CC'), ('their', 'PRP$'), ('metabolites', 'NNS'), ('.', '.'), ('Congestive', 'JJ'), ('Heart', 'NNP'), ('Failure', 'NNP'), ('Many', 'NNP'), ('commonly', 'RB'), ('used', 'VBD'), ('cardiovascular', 'JJ'), (',', ','), ('pulmonary', 'JJ'), (',', ','), ('and', 'CC'), ('neuropsychiatric', 'JJ'), ('medications', 'NNS'), ('interfere', 'RB'), ('with', 'IN'), ('AdreView', 'NNP'), ('imaging', 'NN'), ('(', '('), ('see', 'VB'), ('above', 'IN'), (')', ')'), ('.', '.'), ('AdreView', 'NNP'), ('imaging', 'VBG'), ('should', 'MD'), ('not', 'RB'), ('be', 'VB'), ('performed', 'VBN'), ('if', 'IN'), ('discontinuation', 'NN'), ('of', 'IN'), ('these', 'DT'), ('medications', 'NNS'), ('would', 'MD'), ('involve', 'VB'), ('risks', 'NNS'), ('which', 'WDT'), ('outweigh', 'VBP'), ('the', 'DT'), ('value', 'NN'), ('of', 'IN'), ('AdreView', 'NNP'), ('imaging', 'VBG'), ('.', '.'), ('In', 'IN'), ('clinical', 'JJ'), ('trials', 'NNS'), (',', ','), ('patients', 'NNS'), ('were', 'VBD'), ('not', 'RB'), ('eligible', 'JJ'), ('for', 'IN'), ('AdreView', 'NNP'), ('imaging', 'VBG'), ('if', 'IN'), ('they', 'PRP'), ('were', 'VBD'), ('receiving', 'VBG'), ('medications', 'NNS'), ('in', 'IN'), ('the', 'DT'), ('above', 'JJ'), ('categories', 'NNS'), ('and', 'CC'), ('the', 'DT'), ('risks', 'NNS'), ('for', 'IN'), ('medication', 'NN'), ('withdrawal', 'NN'), ('were', 'VBD'), ('unacceptable', 'JJ'), ('or', 'CC'), ('if', 'IN'), ('they', 'PRP'), ('were', 'VBD'), ('not', 'RB'), ('clinically', 'RB'), ('stable', 'JJ'), ('(', '('), ('e', 'JJ'), ('.', '.'), ('g', 'NN'), ('.', '.'), (',', ','), ('experiencing', 'VBG'), ('continuing', 'VBG'), ('chest', 'JJS'), ('pain', 'NN'), (',', ','), ('hemodynamic', 'JJ'), ('instability', 'NN'), (',', ','), ('or', 'CC'), ('clinically', 'RB'), ('significant', 'JJ'), ('arrhythmia', 'NN'), (')', ')'), ('.', '.'), ('5', 'CD'), ('.', '.'), ('3', 'CD'), ('Risks', 'NNP'), ('for', 'IN'), ('Benzyl', 'NNP'), ('Alcohol', 'NNP'), ('Toxicity', 'NNP'), ('in', 'IN'), ('Infants', 'NNP'), ('AdreView', 'NNP'), ('contains', 'VBZ'), ('benzyl', 'JJ'), ('alcohol', 'NN'), ('at', 'IN'), ('a', 'DT'), ('concentration', 'NN'), ('of', 'IN'), ('10', 'CD'), ('.', '.'), ('3', 'CD'), ('mg', 'JJ'), ('mL', 'NN'), ('.', '.'), ('Benzyl', 'NNP'), ('alcohol', 'NN'), ('has', 'VBZ'), ('been', 'VBN'), ('associated', 'VBN'), ('with', 'IN'), ('a', 'DT'), ('fatal', 'JJ'), ('Gasping', 'NNP'), ('Syndrome', 'NNP'), ('in', 'IN'), ('premature', 'NN'), ('infants', 'NNS'), ('and', 'CC'), ('infants', 'NNS'), ('of', 'IN'), ('low', 'JJ'), ('birth', 'NN'), ('weight', 'NN'), ('.', '.'), ('Exposure', 'NN'), ('to', 'TO'), ('excessive', 'JJ'), ('amounts', 'NNS'), ('of', 'IN'), ('benzyl', 'NN'), ('alcohol', 'NN'), ('has', 'VBZ'), ('been', 'VBN'), ('associated', 'VBN'), ('with', 'IN'), ('toxicity', 'NN'), ('(', '('), ('hypotension', 'NN'), (',', ','), ('metabolic', 'JJ'), ('acidosis', 'NN'), (')', ')'), (',', ','), ('particularly', 'RB'), ('in', 'IN'), ('neonates', 'NNS'), (',', ','), ('and', 'CC'), ('an', 'DT'), ('increased', 'JJ'), ('incidence', 'NN'), ('of', 'IN'), ('kernicterus', 'NN'), (',', ','), ('particularly', 'RB'), ('in', 'IN'), ('small', 'JJ'), ('preterm', 'JJ'), ('infants', 'NNS'), ('.', '.'), ('There', 'EX'), ('have', 'VBP'), ('been', 'VBN'), ('rare', 'JJ'), ('reports', 'NNS'), ('of', 'IN'), ('deaths', 'NNS'), (',', ','), ('primarily', 'RB'), ('in', 'IN'), ('preterm', 'JJ'), ('infants', 'NNS'), (',', ','), ('associated', 'VBN'), ('with', 'IN'), ('exposure', 'NN'), ('to', 'TO'), ('excessive', 'JJ'), ('amounts', 'NNS'), ('of', 'IN'), ('benzyl', 'NN'), ('alcohol', 'NN'), ('see', 'VBP'), ('Description', 'NNP'), ('(', '('), ('11', 'CD'), (')', ')'), ('.', '.'), ('Observe', 'CC'), ('infants', 'NNS'), ('for', 'IN'), ('signs', 'NNS'), ('or', 'CC'), ('symptoms', 'NNS'), ('of', 'IN'), ('benzyl', 'NN'), ('alcohol', 'NN'), ('toxicity', 'NN'), ('following', 'VBG'), ('AdreView', 'NNP'), ('administration', 'NN'), ('.', '.'), ('AdreView', 'NNP'), ('safety', 'NN'), ('and', 'CC'), ('effectiveness', 'NN'), ('have', 'VBP'), ('not', 'RB'), ('been', 'VBN'), ('established', 'VBN'), ('in', 'IN'), ('neonates', 'NNS'), ('(', '('), ('pediatric', 'JJ'), ('patients', 'NNS'), ('below', 'IN'), ('the', 'DT'), ('age', 'NN'), ('of', 'IN'), ('1', 'CD'), ('month', 'NN'), (')', ')'), ('.', '.'), ('5', 'CD'), ('.', '.'), ('4', 'CD'), ('Increased', 'VBD'), ('Radiation', 'NN'), ('Exposure', 'NN'), ('in', 'IN'), ('Patients', 'NNS'), ('with', 'IN'), ('Severe', 'NNP'), ('Renal', 'NNP'), ('Impairment', 'NNP'), ('AdreView', 'NNP'), ('is', 'VBZ'), ('cleared', 'VBN'), ('by', 'IN'), ('glomerular', 'JJ'), ('filtration', 'NN'), ('and', 'CC'), ('is', 'VBZ'), ('not', 'RB'), ('dialyzable', 'JJ'), ('.', '.'), ('The', 'DT'), ('radiation', 'NN'), ('dose', 'NN'), ('to', 'TO'), ('patients', 'NNS'), ('with', 'IN'), ('severe', 'JJ'), ('renal', 'JJ'), ('impairment', 'NN'), ('may', 'MD'), ('be', 'VB'), ('increased', 'VBN'), ('due', 'JJ'), ('to', 'TO'), ('the', 'DT'), ('delayed', 'JJ'), ('elimination', 'NN'), ('of', 'IN'), ('the', 'DT'), ('drug', 'NN'), ('.', '.'), ('Delayed', 'NNP'), ('AdreView', 'NNP'), ('clearance', 'NN'), ('may', 'MD'), ('also', 'RB'), ('reduce', 'VB'), ('the', 'DT'), ('target', 'NN'), ('to', 'TO'), ('background', 'VB'), ('ratios', 'NNS'), ('and', 'CC'), ('decrease', 'VB'), ('the', 'DT'), ('quality', 'NN'), ('of', 'IN'), ('scintigraphic', 'JJ'), ('images', 'NNS'), ('.', '.'), ('These', 'DT'), ('risks', 'NNS'), ('importantly', 'RB'), ('may', 'MD'), ('limit', 'VB'), ('the', 'DT'), ('role', 'NN'), ('of', 'IN'), ('AdreView', 'NNP'), ('in', 'IN'), ('the', 'DT'), ('diagnostic', 'JJ'), ('evaluation', 'NN'), ('of', 'IN'), ('patients', 'NNS'), ('with', 'IN'), ('severe', 'JJ'), ('renal', 'JJ'), ('impairment', 'NN'), ('.', '.'), ('AdreView', 'NNP'), ('safety', 'NN'), ('and', 'CC'), ('efficacy', 'NN'), ('have', 'VBP'), ('not', 'RB'), ('been', 'VBN'), ('established', 'VBN'), ('in', 'IN'), ('these', 'DT'), ('patients', 'NNS'), ('see', 'VBP'), ('Clinical', 'JJ'), ('Pharmacology', 'NNP'), ('(', '('), ('12', 'CD'), ('.', '.'), ('2', 'CD'), (')', ')'), ('.', '.'), ('5', 'CD'), ('.', '.'), ('5', 'CD'), ('Imaging', 'JJ'), ('Errors', 'NNS'), ('due', 'JJ'), ('to', 'TO'), ('Conditions', 'NNPS'), ('that', 'WDT'), ('Affect', 'VBP'), ('the', 'DT'), ('Sympathetic', 'NNP'), ('Nervous', 'NNP'), ('System', 'NNP'), ('Individuals', 'NNP'), ('with', 'IN'), ('conditions', 'NNS'), ('that', 'WDT'), ('affect', 'VBP'), ('the', 'DT'), ('sympathetic', 'JJ'), ('nervous', 'JJ'), ('system', 'NN'), (',', ','), ('e', 'NN'), ('.', '.'), ('g', 'NN'), ('.', '.'), (',', ','), ('Parkinsonian', 'JJ'), ('syndromes', 'NNS'), ('such', 'JJ'), ('as', 'IN'), ('Parkinson', 'NNP'), ('is', 'VBZ'), ('disease', 'NN'), ('or', 'CC'), ('multiple', 'JJ'), ('system', 'NN'), ('atrophy', 'NN'), (',', ','), ('may', 'MD'), ('show', 'VB'), ('decreased', 'JJ'), ('cardiac', 'JJ'), ('uptake', 'NN'), ('of', 'IN'), ('AdreView', 'NNP'), ('independent', 'JJ'), ('of', 'IN'), ('heart', 'NN'), ('disease', 'NN'), ('.', '.'), ('5', 'CD'), ('.', '.'), ('6', 'CD'), ('Thyroid', 'NNP'), ('Accumulation', 'NNP'), ('Failure', 'NNP'), ('to', 'TO'), ('block', 'VB'), ('thyroid', 'JJ'), ('uptake', 'NN'), ('of', 'IN'), ('iodine', 'JJ'), ('123', 'CD'), ('may', 'MD'), ('result', 'VB'), ('in', 'IN'), ('an', 'DT'), ('increased', 'VBN'), ('long', 'JJ'), ('term', 'NN'), ('risk', 'NN'), ('for', 'IN'), ('thyroid', 'JJ'), ('neoplasia', 'NN'), ('see', 'VBP'), ('Dosage', 'NNP'), ('and', 'CC'), ('Administration', 'NNP'), ('(', '('), ('2', 'CD'), ('.', '.'), ('2', 'CD'), (')', ')'), ('.', '.'), ('5', 'CD'), ('.', '.'), ('7', 'CD'), ('Hypertension', 'NNP'), ('Assess', 'NNP'), ('the', 'DT'), ('patient', 'NN'), ('is', 'VBZ'), ('pulse', 'JJ'), ('and', 'CC'), ('blood', 'NN'), ('pressure', 'NN'), ('before', 'IN'), ('and', 'CC'), ('intermittently', 'RB'), ('for', 'IN'), ('30', 'CD'), ('minutes', 'NNS'), ('after', 'IN'), ('AdreView', 'NNP'), ('administration', 'NN'), ('.', '.'), ('AdreView', 'NNP'), ('may', 'MD'), ('increase', 'VB'), ('release', 'NN'), ('of', 'IN'), ('norepinephrine', 'NN'), ('from', 'IN'), ('chromaffin', 'NN'), ('granules', 'NNS'), ('and', 'CC'), ('produce', 'VB'), ('a', 'DT'), ('transient', 'JJ'), ('episode', 'NN'), ('of', 'IN'), ('hypertension', 'NN'), (',', ','), ('although', 'IN'), ('this', 'DT'), ('was', 'VBD'), ('not', 'RB'), ('observed', 'VBN'), ('in', 'IN'), ('the', 'DT'), ('clinical', 'JJ'), ('studies', 'NNS'), ('.', '.'), ('Prior', 'NNP'), ('to', 'TO'), ('AdreView', 'NNP'), ('administration', 'NN'), (',', ','), ('ensure', 'VB'), ('emergency', 'NN'), ('cardiac', 'NN'), ('and', 'CC'), ('anti-hypertensive', 'JJ'), ('treatments', 'NNS'), ('are', 'VBP'), ('readily', 'RB'), ('available', 'JJ'), ('.', '.')]\n"
     ]
    }
   ],
   "source": [
    "for section in root[0].findall('Section'):\n",
    "    pps = preprocess(section.text)\n",
    "    print(pps)"
   ]
  },
  {
   "cell_type": "code",
   "execution_count": null,
   "metadata": {},
   "outputs": [],
   "source": []
  }
 ],
 "metadata": {
  "kernelspec": {
   "display_name": "Python 3",
   "language": "python",
   "name": "python3"
  },
  "language_info": {
   "codemirror_mode": {
    "name": "ipython",
    "version": 3
   },
   "file_extension": ".py",
   "mimetype": "text/x-python",
   "name": "python",
   "nbconvert_exporter": "python",
   "pygments_lexer": "ipython3",
   "version": "3.6.5"
  }
 },
 "nbformat": 4,
 "nbformat_minor": 2
}
